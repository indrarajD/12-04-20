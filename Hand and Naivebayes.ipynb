{
 "cells": [
  {
   "cell_type": "code",
   "execution_count": 1,
   "metadata": {},
   "outputs": [],
   "source": [
    "import nltk\n",
    "import string\n",
    "import re\n",
    "from nltk.corpus import stopwords\n",
    "from nltk import PorterStemmer as Stemmer\n",
    "\n",
    "import pandas as pd\n",
    "import numpy as np\n",
    "\n",
    "from sklearn.naive_bayes import MultinomialNB\n",
    "from sklearn.feature_extraction.text import CountVectorizer\n",
    "from sklearn.model_selection import StratifiedKFold\n",
    "from sklearn.metrics import accuracy_score\n"
   ]
  },
  {
   "cell_type": "code",
   "execution_count": 2,
   "metadata": {},
   "outputs": [
    {
     "data": {
      "text/html": [
       "<div>\n",
       "<style scoped>\n",
       "    .dataframe tbody tr th:only-of-type {\n",
       "        vertical-align: middle;\n",
       "    }\n",
       "\n",
       "    .dataframe tbody tr th {\n",
       "        vertical-align: top;\n",
       "    }\n",
       "\n",
       "    .dataframe thead th {\n",
       "        text-align: right;\n",
       "    }\n",
       "</style>\n",
       "<table border=\"1\" class=\"dataframe\">\n",
       "  <thead>\n",
       "    <tr style=\"text-align: right;\">\n",
       "      <th></th>\n",
       "      <th>tag</th>\n",
       "      <th>text</th>\n",
       "    </tr>\n",
       "  </thead>\n",
       "  <tbody>\n",
       "    <tr>\n",
       "      <th>0</th>\n",
       "      <td>ham</td>\n",
       "      <td>Go until jurong point, crazy.. Available only ...</td>\n",
       "    </tr>\n",
       "    <tr>\n",
       "      <th>1</th>\n",
       "      <td>ham</td>\n",
       "      <td>Ok lar... Joking wif u oni...</td>\n",
       "    </tr>\n",
       "    <tr>\n",
       "      <th>2</th>\n",
       "      <td>spam</td>\n",
       "      <td>Free entry in 2 a wkly comp to win FA Cup fina...</td>\n",
       "    </tr>\n",
       "    <tr>\n",
       "      <th>3</th>\n",
       "      <td>ham</td>\n",
       "      <td>U dun say so early hor... U c already then say...</td>\n",
       "    </tr>\n",
       "    <tr>\n",
       "      <th>4</th>\n",
       "      <td>ham</td>\n",
       "      <td>Nah I don't think he goes to usf, he lives aro...</td>\n",
       "    </tr>\n",
       "  </tbody>\n",
       "</table>\n",
       "</div>"
      ],
      "text/plain": [
       "    tag                                               text\n",
       "0   ham  Go until jurong point, crazy.. Available only ...\n",
       "1   ham                      Ok lar... Joking wif u oni...\n",
       "2  spam  Free entry in 2 a wkly comp to win FA Cup fina...\n",
       "3   ham  U dun say so early hor... U c already then say...\n",
       "4   ham  Nah I don't think he goes to usf, he lives aro..."
      ]
     },
     "execution_count": 2,
     "metadata": {},
     "output_type": "execute_result"
    }
   ],
   "source": [
    "data = pd.read_csv('SMSSpamCollection.csv',sep=\"\\t\", names=['tag','text'],header=None)\n",
    "data.head()"
   ]
  },
  {
   "cell_type": "code",
   "execution_count": 3,
   "metadata": {},
   "outputs": [
    {
     "data": {
      "text/html": [
       "<div>\n",
       "<style scoped>\n",
       "    .dataframe tbody tr th:only-of-type {\n",
       "        vertical-align: middle;\n",
       "    }\n",
       "\n",
       "    .dataframe tbody tr th {\n",
       "        vertical-align: top;\n",
       "    }\n",
       "\n",
       "    .dataframe thead th {\n",
       "        text-align: right;\n",
       "    }\n",
       "</style>\n",
       "<table border=\"1\" class=\"dataframe\">\n",
       "  <thead>\n",
       "    <tr style=\"text-align: right;\">\n",
       "      <th></th>\n",
       "      <th>tag</th>\n",
       "      <th>text</th>\n",
       "    </tr>\n",
       "  </thead>\n",
       "  <tbody>\n",
       "    <tr>\n",
       "      <th>0</th>\n",
       "      <td>0</td>\n",
       "      <td>Go until jurong point, crazy.. Available only ...</td>\n",
       "    </tr>\n",
       "    <tr>\n",
       "      <th>1</th>\n",
       "      <td>0</td>\n",
       "      <td>Ok lar... Joking wif u oni...</td>\n",
       "    </tr>\n",
       "    <tr>\n",
       "      <th>2</th>\n",
       "      <td>1</td>\n",
       "      <td>Free entry in 2 a wkly comp to win FA Cup fina...</td>\n",
       "    </tr>\n",
       "    <tr>\n",
       "      <th>3</th>\n",
       "      <td>0</td>\n",
       "      <td>U dun say so early hor... U c already then say...</td>\n",
       "    </tr>\n",
       "    <tr>\n",
       "      <th>4</th>\n",
       "      <td>0</td>\n",
       "      <td>Nah I don't think he goes to usf, he lives aro...</td>\n",
       "    </tr>\n",
       "  </tbody>\n",
       "</table>\n",
       "</div>"
      ],
      "text/plain": [
       "   tag                                               text\n",
       "0    0  Go until jurong point, crazy.. Available only ...\n",
       "1    0                      Ok lar... Joking wif u oni...\n",
       "2    1  Free entry in 2 a wkly comp to win FA Cup fina...\n",
       "3    0  U dun say so early hor... U c already then say...\n",
       "4    0  Nah I don't think he goes to usf, he lives aro..."
      ]
     },
     "execution_count": 3,
     "metadata": {},
     "output_type": "execute_result"
    }
   ],
   "source": [
    "\n",
    "data.replace('ham', 0, inplace=True)\n",
    "data.replace('spam', 1,inplace=True)\n",
    "data.head(5)"
   ]
  },
  {
   "cell_type": "code",
   "execution_count": 4,
   "metadata": {},
   "outputs": [
    {
     "data": {
      "text/plain": [
       "(5572, 2)"
      ]
     },
     "execution_count": 4,
     "metadata": {},
     "output_type": "execute_result"
    }
   ],
   "source": [
    "data.shape\n",
    "\n"
   ]
  },
  {
   "cell_type": "code",
   "execution_count": 5,
   "metadata": {},
   "outputs": [
    {
     "data": {
      "text/plain": [
       "0    Go until jurong point, crazy.. Available only ...\n",
       "1                        Ok lar... Joking wif u oni...\n",
       "2    Free entry in 2 a wkly comp to win FA Cup fina...\n",
       "3    U dun say so early hor... U c already then say...\n",
       "4    Nah I don't think he goes to usf, he lives aro...\n",
       "Name: text, dtype: object"
      ]
     },
     "execution_count": 5,
     "metadata": {},
     "output_type": "execute_result"
    }
   ],
   "source": [
    "data['text'].head()"
   ]
  },
  {
   "cell_type": "code",
   "execution_count": 6,
   "metadata": {},
   "outputs": [],
   "source": [
    " #Preprocessing \n",
    "def process(string): \n",
    "\n",
    "# punctuation that needs to be removed\n",
    "    process = '''!;:,.?()'[]<>'''\n",
    "    \n",
    "# Going through the each and every character for removal of the above punctuations\n",
    "  \n",
    "    for x in string.lower(): \n",
    "        if x in process: \n",
    "            string = string.replace(x, \"\") \n",
    "\n",
    "# returns the string in lowercase letters \n",
    "    return string.lower()"
   ]
  },
  {
   "cell_type": "code",
   "execution_count": 7,
   "metadata": {},
   "outputs": [],
   "source": [
    "test_training_dataset=data[0:5]"
   ]
  },
  {
   "cell_type": "code",
   "execution_count": 8,
   "metadata": {
    "scrolled": true
   },
   "outputs": [
    {
     "data": {
      "text/html": [
       "<div>\n",
       "<style scoped>\n",
       "    .dataframe tbody tr th:only-of-type {\n",
       "        vertical-align: middle;\n",
       "    }\n",
       "\n",
       "    .dataframe tbody tr th {\n",
       "        vertical-align: top;\n",
       "    }\n",
       "\n",
       "    .dataframe thead th {\n",
       "        text-align: right;\n",
       "    }\n",
       "</style>\n",
       "<table border=\"1\" class=\"dataframe\">\n",
       "  <thead>\n",
       "    <tr style=\"text-align: right;\">\n",
       "      <th></th>\n",
       "      <th>tag</th>\n",
       "      <th>text</th>\n",
       "    </tr>\n",
       "  </thead>\n",
       "  <tbody>\n",
       "    <tr>\n",
       "      <th>0</th>\n",
       "      <td>0</td>\n",
       "      <td>Go until jurong point, crazy.. Available only ...</td>\n",
       "    </tr>\n",
       "    <tr>\n",
       "      <th>1</th>\n",
       "      <td>0</td>\n",
       "      <td>Ok lar... Joking wif u oni...</td>\n",
       "    </tr>\n",
       "    <tr>\n",
       "      <th>2</th>\n",
       "      <td>1</td>\n",
       "      <td>Free entry in 2 a wkly comp to win FA Cup fina...</td>\n",
       "    </tr>\n",
       "    <tr>\n",
       "      <th>3</th>\n",
       "      <td>0</td>\n",
       "      <td>U dun say so early hor... U c already then say...</td>\n",
       "    </tr>\n",
       "    <tr>\n",
       "      <th>4</th>\n",
       "      <td>0</td>\n",
       "      <td>Nah I don't think he goes to usf, he lives aro...</td>\n",
       "    </tr>\n",
       "  </tbody>\n",
       "</table>\n",
       "</div>"
      ],
      "text/plain": [
       "   tag                                               text\n",
       "0    0  Go until jurong point, crazy.. Available only ...\n",
       "1    0                      Ok lar... Joking wif u oni...\n",
       "2    1  Free entry in 2 a wkly comp to win FA Cup fina...\n",
       "3    0  U dun say so early hor... U c already then say...\n",
       "4    0  Nah I don't think he goes to usf, he lives aro..."
      ]
     },
     "execution_count": 8,
     "metadata": {},
     "output_type": "execute_result"
    }
   ],
   "source": [
    "test_training_dataset"
   ]
  },
  {
   "cell_type": "markdown",
   "metadata": {},
   "source": [
    "This is basic understanding of the first text on how the vocabulary can work. A sample output for understanding"
   ]
  },
  {
   "cell_type": "code",
   "execution_count": 9,
   "metadata": {},
   "outputs": [],
   "source": [
    "def create_vocab(series):\n",
    "  vocab = []\n",
    "  for x in series:\n",
    "    x_list = x.split()\n",
    "    for i in x_list: \n",
    "      vocab.append(i)\n",
    "  return list(set(vocab))"
   ]
  },
  {
   "cell_type": "code",
   "execution_count": 10,
   "metadata": {},
   "outputs": [],
   "source": [
    "test_vocab = create_vocab(test_training_dataset['text'].iloc[0:2])"
   ]
  },
  {
   "cell_type": "code",
   "execution_count": 11,
   "metadata": {},
   "outputs": [
    {
     "data": {
      "text/plain": [
       "['Available',\n",
       " 'lar...',\n",
       " 'got',\n",
       " 'wif',\n",
       " 'Cine',\n",
       " 'great',\n",
       " 'Go',\n",
       " 'buffet...',\n",
       " 'there',\n",
       " 'Joking',\n",
       " 'point,',\n",
       " 'Ok',\n",
       " 'u',\n",
       " 'wat...',\n",
       " 'world',\n",
       " 'e',\n",
       " 'only',\n",
       " 'la',\n",
       " 'n',\n",
       " 'jurong',\n",
       " 'crazy..',\n",
       " 'until',\n",
       " 'in',\n",
       " 'bugis',\n",
       " 'amore',\n",
       " 'oni...']"
      ]
     },
     "execution_count": 11,
     "metadata": {},
     "output_type": "execute_result"
    }
   ],
   "source": [
    "test_vocab"
   ]
  },
  {
   "cell_type": "code",
   "execution_count": 12,
   "metadata": {},
   "outputs": [],
   "source": [
    "X=np.array(data['text'])\n",
    "y=np.array(data['tag'])"
   ]
  },
  {
   "cell_type": "markdown",
   "metadata": {},
   "source": [
    "This steps is to create vocabulary. This vocabulary contains the set of words in in both spam and ham(not spam) messages. "
   ]
  },
  {
   "cell_type": "code",
   "execution_count": 13,
   "metadata": {},
   "outputs": [],
   "source": [
    "# Define and Create a Vocabulary list and then distinguish the spam and ham(not spam)\n",
    "def Voc_list(create_x,create_y):\n",
    "#creat vacabulary lists through collection of words\n",
    "    create_spamlist = []\n",
    "    create_hamlist = []\n",
    "#creat dictionary for 1 and 0 group\n",
    "    spam_base = {}\n",
    "    ham_base = {}\n",
    "    \n",
    "    for i in range(len(create_y)):\n",
    "        if create_y[i] == 1:\n",
    "            create_spamlist.append(create_x[i])\n",
    "            for word in create_x[i]:\n",
    "                if word in spam_base:\n",
    "                    spam_base[word] += 1\n",
    "                else:\n",
    "                    spam_base[word] = 1\n",
    "        \n",
    "        elif create_y[i] == 0:\n",
    "            create_hamlist.append(create_x[i])\n",
    "            for word in create_x[i]:\n",
    "                if word in ham_base:\n",
    "                    ham_base[word] += 1\n",
    "                else:\n",
    "                    ham_base[word] = 1\n",
    "\n",
    "    return create_spamlist,create_hamlist,spam_base,ham_base"
   ]
  },
  {
   "cell_type": "code",
   "execution_count": 14,
   "metadata": {},
   "outputs": [
    {
     "name": "stdout",
     "output_type": "stream",
     "text": [
      "[0.8995515695067264, 0.8905829596412556, 0.8842010771992819, 0.8877917414721723, 0.8931777378815081]\n",
      "The average accuracy is: 0.891061017140189\n"
     ]
    }
   ],
   "source": [
    "\n",
    "from sklearn.model_selection import StratifiedKFold\n",
    "accuracy = []\n",
    "kfold = StratifiedKFold(n_splits=5)\n",
    "for train_index, test_index in kfold.split(X,y):\n",
    "    X_train, X_test = X[train_index], X[test_index]\n",
    "    y_train, y_test = y[train_index], y[test_index]\n",
    "    \n",
    "    voc_a,voc_b,dict_a,dict_b = Voc_list(X_train,y_train)\n",
    "\n",
    "# calculate probabilities    \n",
    "    total_sum = len(X_train) #total number of words\n",
    "    contri_1 = len(voc_a) / total_sum\n",
    "    contri_0 = len(voc_b) / total_sum\n",
    "    total_1 = sum(list(dict_a.values()))\n",
    "    total_0 = sum(list(dict_b.values()))\n",
    "\n",
    "# make predictions    \n",
    "    y_pred = []\n",
    "    for i in range(len(X_test)):\n",
    "        prob_1 = 1  #initialize\n",
    "        prob_0 = 1\n",
    "        \n",
    "        for words in X_test[i]:\n",
    "            if words in dict_a:\n",
    "                word_in_spam = dict_a[words]\n",
    "            elif words not in dict_a:\n",
    "                word_in_spam = 0\n",
    "        prob_1 *= (word_in_spam + 1) / (total_1 + len(dict_a)) #  +1 smoothing\n",
    "        \n",
    "        for words in X_test[i]:\n",
    "            if words in dict_b:\n",
    "                word_in_ham = dict_b[words]\n",
    "            elif words not in dict_b:\n",
    "                word_in_ham = 0\n",
    "        prob_0 *= (word_in_ham + 1) / (total_0 + len(dict_b))\n",
    "        \n",
    "#classify\n",
    "        P1 = prob_1 * contri_1\n",
    "        P0 = prob_0 * contri_0\n",
    "    \n",
    "        if P1 > P0:\n",
    "            y_pred.append(1)\n",
    "        else:\n",
    "            y_pred.append(0)\n",
    "            \n",
    "# calculate accuracy   \n",
    "    score = accuracy_score(y_test,y_pred)\n",
    "    accuracy.append(score)\n",
    "print(accuracy)\n",
    "print('The average accuracy is:' , np.mean(accuracy))"
   ]
  },
  {
   "cell_type": "markdown",
   "metadata": {},
   "source": [
    "NaiveBayes Sklearn"
   ]
  },
  {
   "cell_type": "code",
   "execution_count": 15,
   "metadata": {},
   "outputs": [],
   "source": [
    "# create classifier and counter objects \n",
    "classifier = MultinomialNB()\n",
    "counter = CountVectorizer()\n",
    "X=np.array(data['text'])\n",
    "y=np.array(data['tag'])\n",
    "# perform 5-fold CV \n",
    "accuracy1 = []\n",
    "kfold = StratifiedKFold(n_splits=5)\n",
    "for train_index, test_index in kfold.split(X,y):\n",
    "    X_train, X_test = X[train_index], X[test_index]\n",
    "    y_train, y_test = y[train_index], y[test_index]\n",
    "# transform data     \n",
    "    counter.fit(X_train)\n",
    "    train_counts = counter.transform(X_train)\n",
    "    test_counts = counter.transform(X_test)\n",
    "# fit classifier and predict    \n",
    "    classifier = MultinomialNB()\n",
    "    classifier.fit(train_counts, y_train)\n",
    "    y_pred = classifier.predict(test_counts)\n",
    "    score = accuracy_score(y_test, y_pred)\n",
    "    accuracy1.append(score)\n"
   ]
  },
  {
   "cell_type": "code",
   "execution_count": 16,
   "metadata": {
    "scrolled": true
   },
   "outputs": [
    {
     "name": "stdout",
     "output_type": "stream",
     "text": [
      "[0.9847533632286996, 0.9865470852017937, 0.9829443447037702, 0.9829443447037702, 0.9847396768402155]\n"
     ]
    }
   ],
   "source": [
    "#  accuracy metrics for the k-folds\n",
    "print(accuracy1)"
   ]
  },
  {
   "cell_type": "code",
   "execution_count": 17,
   "metadata": {},
   "outputs": [
    {
     "data": {
      "text/html": [
       "<div>\n",
       "<style scoped>\n",
       "    .dataframe tbody tr th:only-of-type {\n",
       "        vertical-align: middle;\n",
       "    }\n",
       "\n",
       "    .dataframe tbody tr th {\n",
       "        vertical-align: top;\n",
       "    }\n",
       "\n",
       "    .dataframe thead th {\n",
       "        text-align: right;\n",
       "    }\n",
       "</style>\n",
       "<table border=\"1\" class=\"dataframe\">\n",
       "  <thead>\n",
       "    <tr style=\"text-align: right;\">\n",
       "      <th></th>\n",
       "      <th>Models</th>\n",
       "      <th>Average Score</th>\n",
       "    </tr>\n",
       "  </thead>\n",
       "  <tbody>\n",
       "    <tr>\n",
       "      <th>0</th>\n",
       "      <td>Hand-Made</td>\n",
       "      <td>0.891061</td>\n",
       "    </tr>\n",
       "    <tr>\n",
       "      <th>1</th>\n",
       "      <td>Sklearn</td>\n",
       "      <td>0.984386</td>\n",
       "    </tr>\n",
       "  </tbody>\n",
       "</table>\n",
       "</div>"
      ],
      "text/plain": [
       "      Models  Average Score\n",
       "0  Hand-Made       0.891061\n",
       "1    Sklearn       0.984386"
      ]
     },
     "execution_count": 17,
     "metadata": {},
     "output_type": "execute_result"
    }
   ],
   "source": [
    "# create table to compare average accuracy on hand-made and sklearn classifiers\n",
    "info = {'Models': ['Hand-Made','Sklearn'],\n",
    "       'Average Score': [np.mean(accuracy), np.mean(accuracy1)]}\n",
    "df = pd.DataFrame(info,columns=['Models','Average Score'])\n",
    "\n",
    "df\n"
   ]
  }
 ],
 "metadata": {
  "kernelspec": {
   "display_name": "Python 3",
   "language": "python",
   "name": "python3"
  },
  "language_info": {
   "codemirror_mode": {
    "name": "ipython",
    "version": 3
   },
   "file_extension": ".py",
   "mimetype": "text/x-python",
   "name": "python",
   "nbconvert_exporter": "python",
   "pygments_lexer": "ipython3",
   "version": "3.7.6"
  }
 },
 "nbformat": 4,
 "nbformat_minor": 2
}
