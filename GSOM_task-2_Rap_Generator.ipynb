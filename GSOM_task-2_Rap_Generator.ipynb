{
 "cells": [
  {
   "cell_type": "code",
   "execution_count": 1,
   "metadata": {},
   "outputs": [],
   "source": [
    "import nltk\n"
   ]
  },
  {
   "cell_type": "code",
   "execution_count": 2,
   "metadata": {},
   "outputs": [],
   "source": [
    "import lyricsgenius\n"
   ]
  },
  {
   "cell_type": "code",
   "execution_count": 3,
   "metadata": {},
   "outputs": [
    {
     "name": "stderr",
     "output_type": "stream",
     "text": [
      "Using TensorFlow backend.\n"
     ]
    }
   ],
   "source": [
    "import keras\n",
    "\n"
   ]
  },
  {
   "cell_type": "code",
   "execution_count": 3,
   "metadata": {},
   "outputs": [
    {
     "name": "stdout",
     "output_type": "stream",
     "text": [
      "[('12 Days of Diss-Mas', 'Eminem'), ('1-833-2GET-REV (REVIVAL Voicemail)', 'Eminem'), ('1996 Underground Freestyle', 'Eminem')]\n"
     ]
    }
   ],
   "source": [
    "genius = lyricsgenius.Genius(\"pZG7WS_A9AxQMgWtys66pm8oz7MLiPqnSL2WHgpEn_-JJObCQ3qMxMHFOtBAG3sL\")\n",
    "genius.verbose = False # Turn off status messages\n",
    "genius.remove_section_headers = True # Remove section headers (e.g. [Chorus]) from lyrics when searching\n",
    "genius.skip_non_songs = False # Include hits thought to be non-songs (e.g. track lists)\n",
    "genius.excluded_terms = [\"(Remix)\", \"(Live)\"] # Exclude songs with these words in their title\n",
    "\n",
    "artist = genius.search_artist(\"Eminem\", max_songs=3, sort=\"title\")\n",
    "print(artist.songs)"
   ]
  },
  {
   "cell_type": "code",
   "execution_count": 4,
   "metadata": {},
   "outputs": [
    {
     "name": "stdout",
     "output_type": "stream",
     "text": [
      "Thank you for your interest in Revival, the number one slightly invasive treatment for Atrox Rithimis. You only get one shot to beat AR. Don't miss your chance with Revival. Please hold to speak with a patient care representative.\n",
      "While you wait, here's some additional information:\n",
      "You should discuss the potential benefits and risks of Revival with your doctor or clergyman. Revival is a non-injectable medication given through the ear canal and is not intended for anal use. Revival is a non-narcotic medication intended for daily use that can be taken with or without food.\n",
      "Tell your doctor about all health conditions, including if you:\n",
      "Have a history of confusion or poor judgment\n",
      "Are allergic to tympanic stimulators\n",
      "Are pregnant or nursing\n",
      "Revival does not cause serious side effects including:\n",
      "Fleem's syndrome\n",
      "Mild to disfiguring acne\n",
      "Brain problems\n",
      "Male pattern baldness, most commonly in women\n",
      "Rage\n",
      "Decreased appetite\n",
      "Increased appetite\n",
      "Seasonal affective disorder\n",
      "Loose gums\n",
      "Gluten sensitivity\n",
      "Toothpain\n",
      "Tight glutes\n",
      "General feeling of head trauma\n",
      "Softening of fingernails\n",
      "Dramatically increased hair growth\n",
      "Sudden nut allergies\n",
      "Ringing in your mouth\n",
      "and Light-leggedness\n",
      "Thank you for continuing to hold. We give you some serious fucking credit for sticking with us. Tell your doctor right away if you have any of the following symptoms:\n",
      "Fever, sweats or chills\n",
      "Muscle ache\n",
      "Cough\n",
      "Shortness of breath\n",
      "Blood and phlegm\n",
      "Weight loss\n",
      "Warm, red, or painful skin or sores on your body\n",
      "Diarrhea or stomach pain\n",
      "Burning when you urinate\n",
      "Chills when you urinate\n",
      "Urinating more often than normal\n",
      "Feeling very tired or night sleeping\n",
      "Revival does not cause you side effects but if you have them you should definitely seek medical attention.\n"
     ]
    }
   ],
   "source": [
    "song = genius.search_song(\"1-833-2GET-REV (REVIVAL Voicemail)\", artist.name)\n",
    "print(song.lyrics)"
   ]
  },
  {
   "cell_type": "code",
   "execution_count": 5,
   "metadata": {},
   "outputs": [],
   "source": [
    "lyrics = [artist.songs[0].lyrics,artist.songs[1].lyrics,artist.songs[2].lyrics ]\n"
   ]
  },
  {
   "cell_type": "markdown",
   "metadata": {},
   "source": [
    "# MLE model"
   ]
  },
  {
   "cell_type": "code",
   "execution_count": 6,
   "metadata": {},
   "outputs": [],
   "source": [
    "from nltk.lm import MLE\n",
    "from nltk.tokenize import word_tokenize\n",
    "from sklearn.feature_extraction.text import CountVectorizer\n",
    "import nltk.tokenize as tk"
   ]
  },
  {
   "cell_type": "code",
   "execution_count": 7,
   "metadata": {},
   "outputs": [],
   "source": [
    "vec = CountVectorizer()\n",
    "X = vec.fit_transform(tk.word_tokenize(song.lyrics))\n",
    "vocabulary_text=vec.get_feature_names()"
   ]
  },
  {
   "cell_type": "code",
   "execution_count": 8,
   "metadata": {},
   "outputs": [],
   "source": [
    "import nltk.tokenize as tk\n",
    "Text=[]\n",
    "\n",
    "tokens = tk.sent_tokenize(song.lyrics)\n",
    "for token in tokens:\n",
    "    sentences=tk.word_tokenize(token)\n",
    "    Text.append(tuple(sentences))\n",
    "    "
   ]
  },
  {
   "cell_type": "code",
   "execution_count": 72,
   "metadata": {},
   "outputs": [
    {
     "name": "stderr",
     "output_type": "stream",
     "text": [
      "F:\\course python\\envs\\tensorflow_ev\\lib\\site-packages\\ipykernel_launcher.py:3: DeprecationWarning: This function is deprecated. Please call randint(0, 10 + 1) instead\n",
      "  This is separate from the ipykernel package so we can avoid doing imports until\n"
     ]
    },
    {
     "data": {
      "text/plain": [
       "['Revival',\n",
       " 'is',\n",
       " 'a',\n",
       " 'non-injectable',\n",
       " 'medication',\n",
       " 'given',\n",
       " 'through',\n",
       " 'the',\n",
       " 'ear',\n",
       " 'canal',\n",
       " 'and',\n",
       " 'is',\n",
       " 'not',\n",
       " 'intended',\n",
       " 'for',\n",
       " 'anal',\n",
       " 'use',\n",
       " '.']"
      ]
     },
     "execution_count": 72,
     "metadata": {},
     "output_type": "execute_result"
    }
   ],
   "source": [
    "import numpy as np\n",
    "\n",
    "random=np.random.random_integers(0,len(tokens))\n",
    "\n",
    "context=tk.word_tokenize(tokens[random])\n",
    "context"
   ]
  },
  {
   "cell_type": "code",
   "execution_count": 93,
   "metadata": {},
   "outputs": [],
   "source": [
    "C=[]\n",
    "\n",
    "for i in context:\n",
    "    \n",
    "    \n",
    "    C.append((i,))\n",
    "    \n",
    "    \n",
    "\n",
    "Context=C[:round(len(C)/2)]\n"
   ]
  },
  {
   "cell_type": "code",
   "execution_count": 9,
   "metadata": {},
   "outputs": [],
   "source": [
    "#transfer each word in  vocabulary_text to tuple\n",
    "V=[]\n",
    "for i in vocabulary_text:\n",
    "    \n",
    "    V.append((i,))   "
   ]
  },
  {
   "cell_type": "code",
   "execution_count": 194,
   "metadata": {},
   "outputs": [],
   "source": [
    "lm1 = MLE(2)\n",
    "\n",
    "lm1.fit([Text], vocabulary_text)\n",
    "lm1.fit([V])"
   ]
  },
  {
   "cell_type": "code",
   "execution_count": 106,
   "metadata": {},
   "outputs": [
    {
     "data": {
      "text/plain": [
       "[('Revival',),\n",
       " ('is',),\n",
       " ('a',),\n",
       " ('non-injectable',),\n",
       " ('medication',),\n",
       " ('given',),\n",
       " ('through',),\n",
       " ('the',),\n",
       " ('ear',)]"
      ]
     },
     "execution_count": 106,
     "metadata": {},
     "output_type": "execute_result"
    }
   ],
   "source": [
    "Context"
   ]
  },
  {
   "cell_type": "code",
   "execution_count": 189,
   "metadata": {
    "scrolled": true
   },
   "outputs": [
    {
     "data": {
      "text/plain": [
       "'through'"
      ]
     },
     "execution_count": 189,
     "metadata": {},
     "output_type": "execute_result"
    }
   ],
   "source": [
    "input_word=lm1.generate(random_seed=2)\n",
    "input_word"
   ]
  },
  {
   "cell_type": "code",
   "execution_count": 196,
   "metadata": {},
   "outputs": [
    {
     "data": {
      "text/plain": [
       "['Revival',\n",
       " 'is',\n",
       " 'a',\n",
       " 'non-injectable',\n",
       " 'medication',\n",
       " 'given',\n",
       " 'through',\n",
       " 'the',\n",
       " 'ear',\n",
       " 'canal',\n",
       " 'and',\n",
       " 'is',\n",
       " 'not',\n",
       " 'intended',\n",
       " 'for',\n",
       " 'anal',\n",
       " 'use',\n",
       " '.']"
      ]
     },
     "execution_count": 196,
     "metadata": {},
     "output_type": "execute_result"
    }
   ],
   "source": [
    "context"
   ]
  },
  {
   "cell_type": "code",
   "execution_count": 197,
   "metadata": {},
   "outputs": [
    {
     "data": {
      "text/plain": [
       "'daily'"
      ]
     },
     "execution_count": 197,
     "metadata": {},
     "output_type": "execute_result"
    }
   ],
   "source": [
    "word=lm1.generate(1,text_seed=context[:-1])\n",
    "word"
   ]
  },
  {
   "cell_type": "code",
   "execution_count": 145,
   "metadata": {},
   "outputs": [
    {
     "data": {
      "text/plain": [
       "6.240251469155713"
      ]
     },
     "execution_count": 145,
     "metadata": {},
     "output_type": "execute_result"
    }
   ],
   "source": [
    "#Calculates the perplexity of the given text.\n",
    "lm1.perplexity(Context)"
   ]
  },
  {
   "cell_type": "code",
   "execution_count": 103,
   "metadata": {},
   "outputs": [
    {
     "data": {
      "text/plain": [
       "0.1111111111111111"
      ]
     },
     "execution_count": 103,
     "metadata": {},
     "output_type": "execute_result"
    }
   ],
   "source": [
    "#Masks out of vocab (OOV) words and computes their model score.\n",
    "lm1.score(word, context=None)"
   ]
  },
  {
   "cell_type": "code",
   "execution_count": 104,
   "metadata": {},
   "outputs": [
    {
     "data": {
      "text/plain": [
       "-3.1699250014423126"
      ]
     },
     "execution_count": 104,
     "metadata": {},
     "output_type": "execute_result"
    }
   ],
   "source": [
    "#Evaluate the log score of this word in this context  (logscore)\n",
    "\n",
    "lm1.logscore(word)"
   ]
  },
  {
   "cell_type": "code",
   "execution_count": 110,
   "metadata": {},
   "outputs": [
    {
     "data": {
      "text/plain": [
       "0.1111111111111111"
      ]
     },
     "execution_count": 110,
     "metadata": {},
     "output_type": "execute_result"
    }
   ],
   "source": [
    "#Score a word given some optional context.\n",
    "lm1.unmasked_score(word, context=None)"
   ]
  },
  {
   "cell_type": "code",
   "execution_count": 146,
   "metadata": {},
   "outputs": [],
   "source": [
    "#study how N influence the model perplexity\n",
    "import matplotlib.pyplot as plt\n",
    "%matplotlib inline\n",
    "Perplex=[]\n",
    "Score=[]\n",
    "LogScore=[]\n",
    "Unmask=[]\n",
    "for i in range(10):\n",
    "    lm_= MLE(i)\n",
    "    \n",
    "    lm_.fit([Text], vocabulary_text)\n",
    "    lm_.fit([Context])\n",
    "    \n",
    "    \n",
    "    \n",
    "    \n",
    "    Perplex.append(lm_.perplexity(Context))\n",
    "    Score.append(lm_.score(word, context=None))\n",
    "    LogScore.append(lm_.logscore(word))\n",
    "    Unmask.append(lm_.unmasked_score(word, context=None))\n",
    "    \n"
   ]
  },
  {
   "cell_type": "code",
   "execution_count": 147,
   "metadata": {},
   "outputs": [
    {
     "data": {
      "text/plain": [
       "<matplotlib.legend.Legend at 0x29e00e28148>"
      ]
     },
     "execution_count": 147,
     "metadata": {},
     "output_type": "execute_result"
    },
    {
     "data": {
      "image/png": "[encoded data removed]",
      "text/plain": [
       "<Figure size 432x288 with 1 Axes>"
      ]
     },
     "metadata": {
      "needs_background": "light"
     },
     "output_type": "display_data"
    }
   ],
   "source": [
    "plt.plot(Perplex, label='Perplex',c='blue',linestyle=\"--\")\n",
    "\n",
    "\n",
    "plt.plot(Score, label='Score',c='black' )\n",
    "plt.plot(LogScore, label='LogScore',c='r')\n",
    "plt.plot(Unmask, label='unmasked_score',c='green')\n",
    "\n",
    "\n",
    "plt.title('How N influence the model')\n",
    "\n",
    "plt.xlabel('N')\n",
    "plt.legend( )\n"
   ]
  },
  {
   "cell_type": "markdown",
   "metadata": {},
   "source": [
    "Conclusion:for MEL model, tune N can not influence the result"
   ]
  },
  {
   "cell_type": "code",
   "execution_count": null,
   "metadata": {},
   "outputs": [],
   "source": []
  },
  {
   "cell_type": "code",
   "execution_count": null,
   "metadata": {},
   "outputs": [],
   "source": []
  },
  {
   "cell_type": "markdown",
   "metadata": {},
   "source": [
    "# NLTK Language Modeling Module"
   ]
  },
  {
   "cell_type": "code",
   "execution_count": 115,
   "metadata": {},
   "outputs": [],
   "source": [
    "text=[]\n",
    "tokens = tk.sent_tokenize(song.lyrics)\n",
    "for token in tokens:\n",
    "    sentences=tk.word_tokenize(token)\n",
    "    text.append(sentences)\n",
    "    \n"
   ]
  },
  {
   "cell_type": "code",
   "execution_count": 116,
   "metadata": {},
   "outputs": [
    {
     "data": {
      "text/plain": [
       "['Do', \"n't\", 'miss', 'your', 'chance', 'with', 'Revival', '.']"
      ]
     },
     "execution_count": 116,
     "metadata": {},
     "output_type": "execute_result"
    }
   ],
   "source": [
    "text[2]"
   ]
  },
  {
   "cell_type": "code",
   "execution_count": 117,
   "metadata": {},
   "outputs": [
    {
     "data": {
      "text/plain": [
       "['<s>',\n",
       " 'Thank',\n",
       " 'you',\n",
       " 'for',\n",
       " 'your',\n",
       " 'interest',\n",
       " 'in',\n",
       " 'Revival',\n",
       " ',',\n",
       " 'the',\n",
       " 'number',\n",
       " 'one',\n",
       " 'slightly',\n",
       " 'invasive',\n",
       " 'treatment',\n",
       " 'for',\n",
       " 'Atrox',\n",
       " 'Rithimis',\n",
       " '.',\n",
       " '</s>']"
      ]
     },
     "execution_count": 117,
     "metadata": {},
     "output_type": "execute_result"
    }
   ],
   "source": [
    "from nltk.util import bigrams\n",
    "from nltk.util import pad_sequence\n",
    "list(pad_sequence(text[0]\n",
    "                  ,pad_left=True\n",
    "                  ,left_pad_symbol=\"<s>\"\n",
    "                  ,pad_right=True\n",
    "                  ,right_pad_symbol=\"</s>\", n=2)\n",
    "    \n",
    "    \n",
    "    \n",
    "    )\n"
   ]
  },
  {
   "cell_type": "code",
   "execution_count": 118,
   "metadata": {},
   "outputs": [
    {
     "data": {
      "text/plain": [
       "['<s>',\n",
       " 'Thank',\n",
       " 'you',\n",
       " 'for',\n",
       " 'your',\n",
       " 'interest',\n",
       " 'in',\n",
       " 'Revival',\n",
       " ',',\n",
       " 'the',\n",
       " 'number',\n",
       " 'one',\n",
       " 'slightly',\n",
       " 'invasive',\n",
       " 'treatment',\n",
       " 'for',\n",
       " 'Atrox',\n",
       " 'Rithimis',\n",
       " '.',\n",
       " '</s>']"
      ]
     },
     "execution_count": 118,
     "metadata": {},
     "output_type": "execute_result"
    }
   ],
   "source": [
    "from nltk.lm.preprocessing import pad_both_ends\n",
    "list(pad_both_ends(text[0], n=2))"
   ]
  },
  {
   "cell_type": "code",
   "execution_count": 119,
   "metadata": {},
   "outputs": [
    {
     "data": {
      "text/plain": [
       "[('<s>', 'Thank'),\n",
       " ('Thank', 'you'),\n",
       " ('you', 'for'),\n",
       " ('for', 'your'),\n",
       " ('your', 'interest'),\n",
       " ('interest', 'in'),\n",
       " ('in', 'Revival'),\n",
       " ('Revival', ','),\n",
       " (',', 'the'),\n",
       " ('the', 'number'),\n",
       " ('number', 'one'),\n",
       " ('one', 'slightly'),\n",
       " ('slightly', 'invasive'),\n",
       " ('invasive', 'treatment'),\n",
       " ('treatment', 'for'),\n",
       " ('for', 'Atrox'),\n",
       " ('Atrox', 'Rithimis'),\n",
       " ('Rithimis', '.'),\n",
       " ('.', '</s>')]"
      ]
     },
     "execution_count": 119,
     "metadata": {},
     "output_type": "execute_result"
    }
   ],
   "source": [
    "list(bigrams(pad_both_ends(text[0], n=2)))"
   ]
  },
  {
   "cell_type": "code",
   "execution_count": 120,
   "metadata": {},
   "outputs": [
    {
     "data": {
      "text/plain": [
       "[('<s>',),\n",
       " ('Thank',),\n",
       " ('you',),\n",
       " ('for',),\n",
       " ('your',),\n",
       " ('interest',),\n",
       " ('in',),\n",
       " ('Revival',),\n",
       " (',',),\n",
       " ('the',),\n",
       " ('number',),\n",
       " ('one',),\n",
       " ('slightly',),\n",
       " ('invasive',),\n",
       " ('treatment',),\n",
       " ('for',),\n",
       " ('Atrox',),\n",
       " ('Rithimis',),\n",
       " ('.',),\n",
       " ('</s>',),\n",
       " ('<s>', 'Thank'),\n",
       " ('Thank', 'you'),\n",
       " ('you', 'for'),\n",
       " ('for', 'your'),\n",
       " ('your', 'interest'),\n",
       " ('interest', 'in'),\n",
       " ('in', 'Revival'),\n",
       " ('Revival', ','),\n",
       " (',', 'the'),\n",
       " ('the', 'number'),\n",
       " ('number', 'one'),\n",
       " ('one', 'slightly'),\n",
       " ('slightly', 'invasive'),\n",
       " ('invasive', 'treatment'),\n",
       " ('treatment', 'for'),\n",
       " ('for', 'Atrox'),\n",
       " ('Atrox', 'Rithimis'),\n",
       " ('Rithimis', '.'),\n",
       " ('.', '</s>')]"
      ]
     },
     "execution_count": 120,
     "metadata": {},
     "output_type": "execute_result"
    }
   ],
   "source": [
    "from nltk.util import everygrams\n",
    "padded_bigrams = list(pad_both_ends(text[0], n=2))\n",
    "list(everygrams(padded_bigrams, max_len=2))"
   ]
  },
  {
   "cell_type": "code",
   "execution_count": 121,
   "metadata": {},
   "outputs": [
    {
     "data": {
      "text/plain": [
       "['<s>',\n",
       " 'Thank',\n",
       " 'you',\n",
       " 'for',\n",
       " 'your',\n",
       " 'interest',\n",
       " 'in',\n",
       " 'Revival',\n",
       " ',',\n",
       " 'the',\n",
       " 'number',\n",
       " 'one',\n",
       " 'slightly',\n",
       " 'invasive',\n",
       " 'treatment',\n",
       " 'for',\n",
       " 'Atrox',\n",
       " 'Rithimis',\n",
       " '.',\n",
       " '</s>',\n",
       " '<s>',\n",
       " 'You',\n",
       " 'only',\n",
       " 'get',\n",
       " 'one',\n",
       " 'shot',\n",
       " 'to',\n",
       " 'beat',\n",
       " 'AR',\n",
       " '.',\n",
       " '</s>',\n",
       " '<s>',\n",
       " 'Do',\n",
       " \"n't\",\n",
       " 'miss',\n",
       " 'your',\n",
       " 'chance',\n",
       " 'with',\n",
       " 'Revival',\n",
       " '.',\n",
       " '</s>',\n",
       " '<s>',\n",
       " 'Please',\n",
       " 'hold',\n",
       " 'to',\n",
       " 'speak',\n",
       " 'with',\n",
       " 'a',\n",
       " 'patient',\n",
       " 'care',\n",
       " 'representative',\n",
       " '.',\n",
       " '</s>',\n",
       " '<s>',\n",
       " 'While',\n",
       " 'you',\n",
       " 'wait',\n",
       " ',',\n",
       " 'here',\n",
       " \"'s\",\n",
       " 'some',\n",
       " 'additional',\n",
       " 'information',\n",
       " ':',\n",
       " 'You',\n",
       " 'should',\n",
       " 'discuss',\n",
       " 'the',\n",
       " 'potential',\n",
       " 'benefits',\n",
       " 'and',\n",
       " 'risks',\n",
       " 'of',\n",
       " 'Revival',\n",
       " 'with',\n",
       " 'your',\n",
       " 'doctor',\n",
       " 'or',\n",
       " 'clergyman',\n",
       " '.',\n",
       " '</s>',\n",
       " '<s>',\n",
       " 'Revival',\n",
       " 'is',\n",
       " 'a',\n",
       " 'non-injectable',\n",
       " 'medication',\n",
       " 'given',\n",
       " 'through',\n",
       " 'the',\n",
       " 'ear',\n",
       " 'canal',\n",
       " 'and',\n",
       " 'is',\n",
       " 'not',\n",
       " 'intended',\n",
       " 'for',\n",
       " 'anal',\n",
       " 'use',\n",
       " '.',\n",
       " '</s>',\n",
       " '<s>',\n",
       " 'Revival',\n",
       " 'is',\n",
       " 'a',\n",
       " 'non-narcotic',\n",
       " 'medication',\n",
       " 'intended',\n",
       " 'for',\n",
       " 'daily',\n",
       " 'use',\n",
       " 'that',\n",
       " 'can',\n",
       " 'be',\n",
       " 'taken',\n",
       " 'with',\n",
       " 'or',\n",
       " 'without',\n",
       " 'food',\n",
       " '.',\n",
       " '</s>',\n",
       " '<s>',\n",
       " 'Tell',\n",
       " 'your',\n",
       " 'doctor',\n",
       " 'about',\n",
       " 'all',\n",
       " 'health',\n",
       " 'conditions',\n",
       " ',',\n",
       " 'including',\n",
       " 'if',\n",
       " 'you',\n",
       " ':',\n",
       " 'Have',\n",
       " 'a',\n",
       " 'history',\n",
       " 'of',\n",
       " 'confusion',\n",
       " 'or',\n",
       " 'poor',\n",
       " 'judgment',\n",
       " 'Are',\n",
       " 'allergic',\n",
       " 'to',\n",
       " 'tympanic',\n",
       " 'stimulators',\n",
       " 'Are',\n",
       " 'pregnant',\n",
       " 'or',\n",
       " 'nursing',\n",
       " 'Revival',\n",
       " 'does',\n",
       " 'not',\n",
       " 'cause',\n",
       " 'serious',\n",
       " 'side',\n",
       " 'effects',\n",
       " 'including',\n",
       " ':',\n",
       " 'Fleem',\n",
       " \"'s\",\n",
       " 'syndrome',\n",
       " 'Mild',\n",
       " 'to',\n",
       " 'disfiguring',\n",
       " 'acne',\n",
       " 'Brain',\n",
       " 'problems',\n",
       " 'Male',\n",
       " 'pattern',\n",
       " 'baldness',\n",
       " ',',\n",
       " 'most',\n",
       " 'commonly',\n",
       " 'in',\n",
       " 'women',\n",
       " 'Rage',\n",
       " 'Decreased',\n",
       " 'appetite',\n",
       " 'Increased',\n",
       " 'appetite',\n",
       " 'Seasonal',\n",
       " 'affective',\n",
       " 'disorder',\n",
       " 'Loose',\n",
       " 'gums',\n",
       " 'Gluten',\n",
       " 'sensitivity',\n",
       " 'Toothpain',\n",
       " 'Tight',\n",
       " 'glutes',\n",
       " 'General',\n",
       " 'feeling',\n",
       " 'of',\n",
       " 'head',\n",
       " 'trauma',\n",
       " 'Softening',\n",
       " 'of',\n",
       " 'fingernails',\n",
       " 'Dramatically',\n",
       " 'increased',\n",
       " 'hair',\n",
       " 'growth',\n",
       " 'Sudden',\n",
       " 'nut',\n",
       " 'allergies',\n",
       " 'Ringing',\n",
       " 'in',\n",
       " 'your',\n",
       " 'mouth',\n",
       " 'and',\n",
       " 'Light-leggedness',\n",
       " 'Thank',\n",
       " 'you',\n",
       " 'for',\n",
       " 'continuing',\n",
       " 'to',\n",
       " 'hold',\n",
       " '.',\n",
       " '</s>',\n",
       " '<s>',\n",
       " 'We',\n",
       " 'give',\n",
       " 'you',\n",
       " 'some',\n",
       " 'serious',\n",
       " 'fucking',\n",
       " 'credit',\n",
       " 'for',\n",
       " 'sticking',\n",
       " 'with',\n",
       " 'us',\n",
       " '.',\n",
       " '</s>',\n",
       " '<s>',\n",
       " 'Tell',\n",
       " 'your',\n",
       " 'doctor',\n",
       " 'right',\n",
       " 'away',\n",
       " 'if',\n",
       " 'you',\n",
       " 'have',\n",
       " 'any',\n",
       " 'of',\n",
       " 'the',\n",
       " 'following',\n",
       " 'symptoms',\n",
       " ':',\n",
       " 'Fever',\n",
       " ',',\n",
       " 'sweats',\n",
       " 'or',\n",
       " 'chills',\n",
       " 'Muscle',\n",
       " 'ache',\n",
       " 'Cough',\n",
       " 'Shortness',\n",
       " 'of',\n",
       " 'breath',\n",
       " 'Blood',\n",
       " 'and',\n",
       " 'phlegm',\n",
       " 'Weight',\n",
       " 'loss',\n",
       " 'Warm',\n",
       " ',',\n",
       " 'red',\n",
       " ',',\n",
       " 'or',\n",
       " 'painful',\n",
       " 'skin',\n",
       " 'or',\n",
       " 'sores',\n",
       " 'on',\n",
       " 'your',\n",
       " 'body',\n",
       " 'Diarrhea',\n",
       " 'or',\n",
       " 'stomach',\n",
       " 'pain',\n",
       " 'Burning',\n",
       " 'when',\n",
       " 'you',\n",
       " 'urinate',\n",
       " 'Chills',\n",
       " 'when',\n",
       " 'you',\n",
       " 'urinate',\n",
       " 'Urinating',\n",
       " 'more',\n",
       " 'often',\n",
       " 'than',\n",
       " 'normal',\n",
       " 'Feeling',\n",
       " 'very',\n",
       " 'tired',\n",
       " 'or',\n",
       " 'night',\n",
       " 'sleeping',\n",
       " 'Revival',\n",
       " 'does',\n",
       " 'not',\n",
       " 'cause',\n",
       " 'you',\n",
       " 'side',\n",
       " 'effects',\n",
       " 'but',\n",
       " 'if',\n",
       " 'you',\n",
       " 'have',\n",
       " 'them',\n",
       " 'you',\n",
       " 'should',\n",
       " 'definitely',\n",
       " 'seek',\n",
       " 'medical',\n",
       " 'attention',\n",
       " '.',\n",
       " '</s>']"
      ]
     },
     "execution_count": 121,
     "metadata": {},
     "output_type": "execute_result"
    }
   ],
   "source": [
    "#combine the sentences into one flat stream of words\n",
    "from nltk.lm.preprocessing import flatten\n",
    "list(flatten(pad_both_ends(sent, n=2) for sent in text))"
   ]
  },
  {
   "cell_type": "code",
   "execution_count": 122,
   "metadata": {},
   "outputs": [],
   "source": [
    "from nltk.lm.preprocessing import padded_everygram_pipeline\n",
    "train, vocab = padded_everygram_pipeline(2, text)"
   ]
  },
  {
   "cell_type": "code",
   "execution_count": 123,
   "metadata": {},
   "outputs": [],
   "source": [
    "#training\n",
    "\n",
    "from nltk.lm import MLE\n",
    "lm2 = MLE(2)"
   ]
  },
  {
   "cell_type": "code",
   "execution_count": 124,
   "metadata": {},
   "outputs": [
    {
     "name": "stdout",
     "output_type": "stream",
     "text": [
      "<Vocabulary with cutoff=1 unk_label='<UNK>' and 197 items>\n"
     ]
    },
    {
     "data": {
      "text/plain": [
       "197"
      ]
     },
     "execution_count": 124,
     "metadata": {},
     "output_type": "execute_result"
    }
   ],
   "source": [
    "#fit the model\n",
    "\n",
    "lm2.fit(train, vocab)\n",
    "print(lm2.vocab)\n",
    "len(lm2.vocab)"
   ]
  },
  {
   "cell_type": "code",
   "execution_count": 125,
   "metadata": {},
   "outputs": [
    {
     "data": {
      "text/plain": [
       "('<UNK>', '<UNK>', '<UNK>')"
      ]
     },
     "execution_count": 125,
     "metadata": {},
     "output_type": "execute_result"
    }
   ],
   "source": [
    "lm2.vocab.lookup(text[0])\n",
    "\n",
    "lm2.vocab.lookup([\"aliens\", \"from\", \"Mars\"])\n"
   ]
  },
  {
   "cell_type": "code",
   "execution_count": 126,
   "metadata": {},
   "outputs": [
    {
     "name": "stdout",
     "output_type": "stream",
     "text": [
      "<NgramCounter with 2 ngram orders and 632 ngrams>\n"
     ]
    }
   ],
   "source": [
    "#Using a Trained Model\n",
    "print(lm2.counts)"
   ]
  },
  {
   "cell_type": "code",
   "execution_count": 127,
   "metadata": {},
   "outputs": [
    {
     "data": {
      "text/plain": [
       "0.012461059190031152"
      ]
     },
     "execution_count": 127,
     "metadata": {},
     "output_type": "execute_result"
    }
   ],
   "source": [
    "lm2.score(word)"
   ]
  },
  {
   "cell_type": "code",
   "execution_count": 129,
   "metadata": {},
   "outputs": [
    {
     "data": {
      "text/plain": [
       "1.0"
      ]
     },
     "execution_count": 129,
     "metadata": {},
     "output_type": "execute_result"
    }
   ],
   "source": [
    "lm2.score(word, [input_word])"
   ]
  },
  {
   "cell_type": "code",
   "execution_count": 133,
   "metadata": {},
   "outputs": [
    {
     "data": {
      "text/plain": [
       "-6.326429487122303"
      ]
     },
     "execution_count": 133,
     "metadata": {},
     "output_type": "execute_result"
    }
   ],
   "source": [
    "lm2.logscore(word)"
   ]
  },
  {
   "cell_type": "code",
   "execution_count": 142,
   "metadata": {
    "scrolled": true
   },
   "outputs": [
    {
     "data": {
      "text/plain": [
       "7.282838662369108"
      ]
     },
     "execution_count": 142,
     "metadata": {},
     "output_type": "execute_result"
    }
   ],
   "source": [
    "lm2.entropy(Context)"
   ]
  },
  {
   "cell_type": "code",
   "execution_count": 144,
   "metadata": {},
   "outputs": [
    {
     "data": {
      "text/plain": [
       "155.72304631037167"
      ]
     },
     "execution_count": 144,
     "metadata": {},
     "output_type": "execute_result"
    }
   ],
   "source": [
    "lm2.perplexity(Context)"
   ]
  },
  {
   "cell_type": "code",
   "execution_count": 178,
   "metadata": {},
   "outputs": [
    {
     "data": {
      "text/plain": [
       "['Revival', 'does', 'not', 'cause', 'you']"
      ]
     },
     "execution_count": 178,
     "metadata": {},
     "output_type": "execute_result"
    }
   ],
   "source": [
    "#random generate\n",
    "\n",
    "lm2.generate(5, random_seed=3)"
   ]
  },
  {
   "cell_type": "code",
   "execution_count": 181,
   "metadata": {},
   "outputs": [
    {
     "data": {
      "text/plain": [
       "['often', 'than', 'normal', 'Feeling', 'very', 'tired', 'or', 'poor']"
      ]
     },
     "execution_count": 181,
     "metadata": {},
     "output_type": "execute_result"
    }
   ],
   "source": [
    "#specify preceding text\n",
    "\n",
    "lm2.generate(8, text_seed='you')"
   ]
  },
  {
   "cell_type": "code",
   "execution_count": 176,
   "metadata": {},
   "outputs": [],
   "source": [
    "perplex=[]\n",
    "score=[]\n",
    "entropy=[]\n",
    "logScore=[]\n",
    "\n",
    "for i in range(10):\n",
    "    \n",
    "    train, vocab = padded_everygram_pipeline(2, text)\n",
    "    \n",
    "    \n",
    "    lm = MLE(i)\n",
    "    lm.fit(train, vocab)\n",
    "    perplex.append(lm.perplexity(Context))\n",
    "    score.append(lm.score(word))\n",
    "    entropy.append(lm.entropy(Context))\n",
    "    logScore.append(lm.logscore(word))"
   ]
  },
  {
   "cell_type": "code",
   "execution_count": 173,
   "metadata": {},
   "outputs": [
    {
     "data": {
      "text/plain": [
       "<matplotlib.legend.Legend at 0x29e01044a08>"
      ]
     },
     "execution_count": 173,
     "metadata": {},
     "output_type": "execute_result"
    },
    {
     "data": {
      "image/png": "[encoded data removed]",
      "text/plain": [
       "<Figure size 432x288 with 1 Axes>"
      ]
     },
     "metadata": {
      "needs_background": "light"
     },
     "output_type": "display_data"
    }
   ],
   "source": [
    "plt.plot(perplex, label='Perplex',c='blue',linestyle=\"--\")\n",
    "plt.plot(entropy, label='entropy',c='y',linestyle=\"--\")\n",
    "\n",
    "\n",
    "plt.plot(score, label='Score',c='black' )\n",
    "plt.plot(logScore, label='LogScore',c='r')\n",
    "\n",
    "\n",
    "\n",
    "plt.title('How N influence the model')\n",
    "\n",
    "plt.xlabel('N')\n",
    "plt.legend( )"
   ]
  },
  {
   "cell_type": "code",
   "execution_count": 183,
   "metadata": {},
   "outputs": [
    {
     "data": {
      "text/plain": [
       "<matplotlib.legend.Legend at 0x29e01160d08>"
      ]
     },
     "execution_count": 183,
     "metadata": {},
     "output_type": "execute_result"
    },
    {
     "data": {
      "image/png": "[encoded data removed]",
      "text/plain": [
       "<Figure size 432x288 with 1 Axes>"
      ]
     },
     "metadata": {
      "needs_background": "light"
     },
     "output_type": "display_data"
    }
   ],
   "source": [
    "#comparision 2 models\n",
    "\n",
    "\n",
    "plt.plot(Perplex, label='MLE',c='r',linestyle=\"--\")\n",
    "plt.plot(perplex, label='NLTK Language Modeling Module',c='blue',linestyle=\"--\")\n",
    "\n",
    "plt.title('Compare 2 models with perplex')\n",
    "\n",
    "plt.xlabel('N')\n",
    "plt.ylabel('perplexity')\n",
    "plt.legend( )"
   ]
  },
  {
   "cell_type": "markdown",
   "metadata": {},
   "source": [
    "Conclusion:MLE is the better model"
   ]
  },
  {
   "cell_type": "code",
   "execution_count": null,
   "metadata": {},
   "outputs": [],
   "source": []
  }
 ],
 "metadata": {
  "kernelspec": {
   "display_name": "Python 3",
   "language": "python",
   "name": "python3"
  },
  "language_info": {
   "codemirror_mode": {
    "name": "ipython",
    "version": 3
   },
   "file_extension": ".py",
   "mimetype": "text/x-python",
   "name": "python",
   "nbconvert_exporter": "python",
   "pygments_lexer": "ipython3",
   "version": "3.7.6"
  }
 },
 "nbformat": 4,
 "nbformat_minor": 2
}
